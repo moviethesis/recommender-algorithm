{
 "cells": [
  {
   "cell_type": "code",
   "execution_count": 1,
   "metadata": {},
   "outputs": [],
   "source": [
    "# import dependencies\n",
    "import pandas as pd\n",
    "import numpy as np\n",
    "from numpy import array\n",
    "from numpy import asarray\n",
    "from numpy import zeros\n",
    "import seaborn as sns\n",
    "import matplotlib.pyplot as plt\n",
    "%matplotlib inline\n",
    "\n",
    "from zipfile import ZipFile\n",
    "import json\n",
    "import os.path\n",
    "import re\n",
    "import pickle\n",
    "\n",
    "import data_download\n",
    "\n",
    "import tensorflow as tf\n",
    "from tensorflow import keras\n",
    "from tensorflow.keras import layers\n",
    "\n",
    "from sklearn.metrics import mean_absolute_error, mean_squared_error\n",
    "from sklearn.model_selection import train_test_split\n",
    "\n",
    "# Add some convenience functions to Pandas DataFrame.\n",
    "pd.options.display.max_rows = 10\n",
    "pd.options.display.float_format = '{:.3f}'.format\n",
    "def mask(df, key, function):\n",
    "  \"\"\"Returns a filtered dataframe, by applying function to key\"\"\"\n",
    "  return df[function(df[key])]\n",
    "\n",
    "def flatten_cols(df):\n",
    "  df.columns = [' '.join(col).strip() for col in df.columns.values]\n",
    "  return df\n",
    "\n",
    "pd.DataFrame.mask = mask\n",
    "pd.DataFrame.flatten_cols = flatten_cols"
   ]
  },
  {
   "cell_type": "code",
   "execution_count": 2,
   "metadata": {
    "scrolled": true
   },
   "outputs": [
    {
     "name": "stdout",
     "output_type": "stream",
     "text": [
      "MovieLens 25M Dataset is downloaded!\n",
      "MovieLens Latest Small Dataset is downloaded!\n",
      "MovieLens 25M Dataset is already extracted!\n",
      "MovieLens Latest Small Dataset is already extracted!\n"
     ]
    }
   ],
   "source": [
    "# movies, links, ratings, tags = data_download.load_unprocessed_df(use_large=False)\n",
    "movies, links, ratings, tags, genome_tags, genome_scores = data_download.load_unprocessed_df(use_large=True)"
   ]
  },
  {
   "cell_type": "code",
   "execution_count": 3,
   "metadata": {},
   "outputs": [],
   "source": []
  },
  {
   "cell_type": "code",
   "execution_count": null,
   "metadata": {},
   "outputs": [],
   "source": []
  },
  {
   "cell_type": "code",
   "execution_count": 4,
   "metadata": {},
   "outputs": [
    {
     "name": "stdout",
     "output_type": "stream",
     "text": [
      "CPU times: user 41.1 s, sys: 1.15 s, total: 42.2 s\n",
      "Wall time: 42.2 s\n"
     ]
    }
   ],
   "source": [
    "%%time\n",
    "u_uniq = ratings.userId.unique()\n",
    "user2idx = {x: i for i, x in enumerate(u_uniq)}\n",
    "idx2user = {x: x for i, x in enumerate(u_uniq)}\n",
    "ratings.userId = ratings.userId.apply(lambda x: user2idx[x])\n",
    "\n",
    "m_uniq = ratings.movieId.unique()\n",
    "movie2idx = {x: i for i, x in enumerate(m_uniq)}\n",
    "idx2movie = {x: x for i, x in enumerate(m_uniq)}\n",
    "ratings.movieId = ratings.movieId.apply(lambda x: movie2idx[x])"
   ]
  },
  {
   "cell_type": "code",
   "execution_count": 5,
   "metadata": {},
   "outputs": [
    {
     "name": "stdout",
     "output_type": "stream",
     "text": [
      "Number of users: 162541, Number of Movies: 59047, Min rating: 0.5, Max rating: 5.0\n"
     ]
    }
   ],
   "source": [
    "num_users = int(ratings.userId.nunique())\n",
    "num_movies = int(ratings.movieId.nunique())\n",
    "ratings[\"rating\"] = ratings[\"rating\"].values.astype(np.float32)\n",
    "# min and max ratings will be used to normalize the ratings later\n",
    "min_rating = min(ratings[\"rating\"])\n",
    "max_rating = max(ratings[\"rating\"])\n",
    "\n",
    "print(\n",
    "    \"Number of users: {}, Number of Movies: {}, Min rating: {}, Max rating: {}\".format(\n",
    "        num_users, num_movies, min_rating, max_rating\n",
    "    )\n",
    ")"
   ]
  },
  {
   "cell_type": "code",
   "execution_count": 6,
   "metadata": {},
   "outputs": [],
   "source": [
    "ratings = ratings.sample(frac=1, random_state=42)\n",
    "x = ratings[[\"userId\", \"movieId\"]].values\n",
    "# Normalize the targets between 0 and 1. Makes it easy to train.\n",
    "y = ratings[\"rating\"].apply(lambda x: (x - min_rating) / (max_rating - min_rating)).values\n",
    "# Assuming training on 90% of the data and validating on 10%.\n",
    "train_indices = int(0.9 * ratings.shape[0])\n",
    "x_train, x_val, y_train, y_val = (\n",
    "    x[:train_indices],\n",
    "    x[train_indices:],\n",
    "    y[:train_indices],\n",
    "    y[train_indices:],\n",
    ")"
   ]
  },
  {
   "cell_type": "code",
   "execution_count": 237,
   "metadata": {},
   "outputs": [
    {
     "data": {
      "text/plain": [
       "array([[ 99475,   3024],\n",
       "       [107978,   9645],\n",
       "       [155371,   1092],\n",
       "       [ 65224,    227],\n",
       "       [ 79160,    964]])"
      ]
     },
     "execution_count": 237,
     "metadata": {},
     "output_type": "execute_result"
    }
   ],
   "source": [
    "x_train[:5]"
   ]
  },
  {
   "cell_type": "code",
   "execution_count": 238,
   "metadata": {},
   "outputs": [
    {
     "data": {
      "text/plain": [
       "array([0.66666667, 0.77777778, 0.55555556, 0.77777778, 1.        ])"
      ]
     },
     "execution_count": 238,
     "metadata": {},
     "output_type": "execute_result"
    }
   ],
   "source": [
    "y_train[:5]"
   ]
  },
  {
   "cell_type": "code",
   "execution_count": 239,
   "metadata": {},
   "outputs": [
    {
     "name": "stdout",
     "output_type": "stream",
     "text": [
      "Model: \"model_6\"\n",
      "__________________________________________________________________________________________________\n",
      "Layer (type)                    Output Shape         Param #     Connected to                     \n",
      "==================================================================================================\n",
      "movie-input (InputLayer)        [(None, 1)]          0                                            \n",
      "__________________________________________________________________________________________________\n",
      "user-input (InputLayer)         [(None, 1)]          0                                            \n",
      "__________________________________________________________________________________________________\n",
      "movie-embedding (Embedding)     (None, 1, 10)        590480      movie-input[0][0]                \n",
      "__________________________________________________________________________________________________\n",
      "user-embedding (Embedding)      (None, 1, 10)        1625420     user-input[0][0]                 \n",
      "__________________________________________________________________________________________________\n",
      "movie-flatten (Flatten)         (None, 10)           0           movie-embedding[0][0]            \n",
      "__________________________________________________________________________________________________\n",
      "user-flatten (Flatten)          (None, 10)           0           user-embedding[0][0]             \n",
      "__________________________________________________________________________________________________\n",
      "movie-user-concat (Dot)         (None, 1)            0           movie-flatten[0][0]              \n",
      "                                                                 user-flatten[0][0]               \n",
      "__________________________________________________________________________________________________\n",
      "dropout_6 (Dropout)             (None, 1)            0           movie-user-concat[0][0]          \n",
      "__________________________________________________________________________________________________\n",
      "fc-1 (Dense)                    (None, 256)          512         dropout_6[0][0]                  \n",
      "__________________________________________________________________________________________________\n",
      "fc-1-dropout (Dropout)          (None, 256)          0           fc-1[0][0]                       \n",
      "__________________________________________________________________________________________________\n",
      "fc-2 (Dense)                    (None, 128)          32896       fc-1-dropout[0][0]               \n",
      "__________________________________________________________________________________________________\n",
      "fc-2-dropout (Dropout)          (None, 128)          0           fc-2[0][0]                       \n",
      "__________________________________________________________________________________________________\n",
      "fc-3 (Dense)                    (None, 1)            129         fc-2-dropout[0][0]               \n",
      "==================================================================================================\n",
      "Total params: 2,249,437\n",
      "Trainable params: 2,249,437\n",
      "Non-trainable params: 0\n",
      "__________________________________________________________________________________________________\n"
     ]
    }
   ],
   "source": [
    "latent_dim = 10\n",
    "\n",
    "movie_input = keras.Input(shape=[1], name=\"movie-input\")\n",
    "movie_embed = layers.Embedding(num_movies + 1, latent_dim, name='movie-embedding')(movie_input)\n",
    "movie_flatt = layers.Flatten(name='movie-flatten')(movie_embed)\n",
    "\n",
    "user_input = keras.Input(shape=[1], name='user-input')\n",
    "user_embed = layers.Embedding(num_users + 1, latent_dim, name='user-embedding')(user_input)\n",
    "user_flatt = layers.Flatten(name='user-flatten')(user_embed)\n",
    "\n",
    "concat_layers = layers.Dot(axes=1, name='movie-user-concat')([movie_flatt, user_flatt])\n",
    "concat_dropou = layers.Dropout(0.2)(concat_layers)\n",
    "\n",
    "fully_1 = layers.Dense(256, name='fc-1', activation='relu')(concat_dropou)\n",
    "fully_1_dropout = layers.Dropout(0.2, name='fc-1-dropout')(fully_1)\n",
    "\n",
    "fully_2 = layers.Dense(128, name='fc-2', activation='relu')(fully_1_dropout)\n",
    "fully_2_dropout = layers.Dropout(0.2, name='fc-2-dropout')(fully_2)\n",
    "\n",
    "fully_3 = layers.Dense(1, name='fc-3', activation='relu')(fully_2_dropout)\n",
    "model = tf.keras.Model([user_input, movie_input], fully_3)\n",
    "model.summary()"
   ]
  },
  {
   "cell_type": "code",
   "execution_count": 240,
   "metadata": {},
   "outputs": [],
   "source": [
    "model.compile(\n",
    "    loss=tf.keras.losses.MeanSquaredError(), \n",
    "    optimizer=keras.optimizers.Adam(lr=0.001),\n",
    ")"
   ]
  },
  {
   "cell_type": "code",
   "execution_count": 241,
   "metadata": {},
   "outputs": [],
   "source": [
    "model_checkpoint_callback = tf.keras.callbacks.ModelCheckpoint(\n",
    "    filepath='/ckpt',\n",
    "    save_weights_only=True,\n",
    "    monitor='val_loss',\n",
    "    mode='min',\n",
    "    save_best_only=True\n",
    ")\n",
    "\n",
    "reduce_lr = tf.keras.callbacks.ReduceLROnPlateau(\n",
    "    monitor='val_loss', \n",
    "    factor=0.2,\n",
    "    patience=5, \n",
    "    min_lr=0.0001\n",
    ")\n",
    "\n",
    "early_stop = tf.keras.callbacks.EarlyStopping(monitor='loss', patience=3)\n",
    "\n",
    "callbacks = [\n",
    "    reduce_lr,\n",
    "    early_stop,\n",
    "    model_checkpoint_callback\n",
    "]"
   ]
  },
  {
   "cell_type": "code",
   "execution_count": 242,
   "metadata": {},
   "outputs": [
    {
     "name": "stdout",
     "output_type": "stream",
     "text": [
      "Train on 22500085 samples, validate on 2500010 samples\n",
      "Epoch 1/10\n",
      "22500085/22500085 [==============================] - 975s 43us/sample - loss: 0.0510 - val_loss: 0.0477\n",
      "Epoch 2/10\n",
      "22500085/22500085 [==============================] - 973s 43us/sample - loss: 0.0472 - val_loss: 0.0456\n",
      "Epoch 3/10\n",
      "22500085/22500085 [==============================] - 973s 43us/sample - loss: 0.0444 - val_loss: 0.0430\n",
      "Epoch 4/10\n",
      "22500085/22500085 [==============================] - 974s 43us/sample - loss: 0.0423 - val_loss: 0.0410\n",
      "Epoch 5/10\n",
      "22500085/22500085 [==============================] - 974s 43us/sample - loss: 0.0410 - val_loss: 0.0423\n",
      "Epoch 6/10\n",
      "22500085/22500085 [==============================] - 973s 43us/sample - loss: 0.0400 - val_loss: 0.0421\n",
      "Epoch 7/10\n",
      "22500085/22500085 [==============================] - 974s 43us/sample - loss: 0.0392 - val_loss: 0.0405\n",
      "Epoch 8/10\n",
      "22500085/22500085 [==============================] - 974s 43us/sample - loss: 0.0387 - val_loss: 0.0419\n",
      "Epoch 9/10\n",
      "22500085/22500085 [==============================] - 974s 43us/sample - loss: 0.0382 - val_loss: 0.0404\n",
      "Epoch 10/10\n",
      "22500085/22500085 [==============================] - 975s 43us/sample - loss: 0.0379 - val_loss: 0.0404\n"
     ]
    }
   ],
   "source": [
    "history = model.fit(\n",
    "    x=[x_train[:, 0], x_train[:, 1]],\n",
    "    y=y_train,\n",
    "    batch_size=256,\n",
    "    epochs=10,\n",
    "    verbose=1,\n",
    "    callbacks=callbacks,\n",
    "    validation_data=([x_val[:, 0], x_val[:, 1]], y_val),\n",
    ")"
   ]
  },
  {
   "cell_type": "code",
   "execution_count": 243,
   "metadata": {},
   "outputs": [
    {
     "data": {
      "image/png": "[encoded data removed]",
      "text/plain": [
       "<Figure size 432x288 with 1 Axes>"
      ]
     },
     "metadata": {
      "needs_background": "light"
     },
     "output_type": "display_data"
    }
   ],
   "source": [
    "plt.plot(history.history[\"loss\"])\n",
    "plt.plot(history.history[\"val_loss\"])\n",
    "plt.title(\"model loss\")\n",
    "plt.ylabel(\"loss\")\n",
    "plt.xlabel(\"epoch\")\n",
    "plt.legend([\"train\", \"validation\"], loc=\"upper left\")\n",
    "plt.show()"
   ]
  },
  {
   "cell_type": "code",
   "execution_count": 244,
   "metadata": {},
   "outputs": [],
   "source": [
    "y_hat = np.round(model.predict([x_val[:, 0], x_val[:, 1]]), decimals=2)\n",
    "y_true = y_val"
   ]
  },
  {
   "cell_type": "code",
   "execution_count": 245,
   "metadata": {},
   "outputs": [
    {
     "data": {
      "text/plain": [
       "0.1614582089591935"
      ]
     },
     "execution_count": 245,
     "metadata": {},
     "output_type": "execute_result"
    }
   ],
   "source": [
    "mean_absolute_error(y_true, y_hat)"
   ]
  },
  {
   "cell_type": "code",
   "execution_count": 248,
   "metadata": {},
   "outputs": [
    {
     "data": {
      "text/plain": [
       "0.2009844044156087"
      ]
     },
     "execution_count": 248,
     "metadata": {},
     "output_type": "execute_result"
    }
   ],
   "source": [
    "mean_squared_error(y_true, y_hat , squared=False)"
   ]
  },
  {
   "cell_type": "code",
   "execution_count": 249,
   "metadata": {},
   "outputs": [
    {
     "name": "stdout",
     "output_type": "stream",
     "text": [
      "WARNING:tensorflow:From /usr/local/lib/python3.6/dist-packages/tensorflow_core/python/ops/resource_variable_ops.py:1781: calling BaseResourceVariable.__init__ (from tensorflow.python.ops.resource_variable_ops) with constraint is deprecated and will be removed in a future version.\n",
      "Instructions for updating:\n",
      "If using Keras pass *_constraint arguments to layers.\n",
      "INFO:tensorflow:Assets written to: nn_test_1/assets\n"
     ]
    }
   ],
   "source": [
    "model.save(\"nn_test_1\")"
   ]
  },
  {
   "cell_type": "code",
   "execution_count": null,
   "metadata": {},
   "outputs": [],
   "source": []
  },
  {
   "cell_type": "code",
   "execution_count": null,
   "metadata": {},
   "outputs": [],
   "source": []
  },
  {
   "cell_type": "code",
   "execution_count": 7,
   "metadata": {},
   "outputs": [],
   "source": [
    "model = keras.models.load_model('nn_test_1')"
   ]
  },
  {
   "cell_type": "code",
   "execution_count": 8,
   "metadata": {},
   "outputs": [
    {
     "data": {
      "text/html": [
       "<div>\n",
       "<style scoped>\n",
       "    .dataframe tbody tr th:only-of-type {\n",
       "        vertical-align: middle;\n",
       "    }\n",
       "\n",
       "    .dataframe tbody tr th {\n",
       "        vertical-align: top;\n",
       "    }\n",
       "\n",
       "    .dataframe thead th {\n",
       "        text-align: right;\n",
       "    }\n",
       "</style>\n",
       "<table border=\"1\" class=\"dataframe\">\n",
       "  <thead>\n",
       "    <tr style=\"text-align: right;\">\n",
       "      <th></th>\n",
       "      <th>userId</th>\n",
       "      <th>movieId</th>\n",
       "      <th>rating</th>\n",
       "      <th>timestamp</th>\n",
       "    </tr>\n",
       "  </thead>\n",
       "  <tbody>\n",
       "    <tr>\n",
       "      <th>15347762</th>\n",
       "      <td>99475</td>\n",
       "      <td>3024</td>\n",
       "      <td>3.500</td>\n",
       "      <td>1467897440</td>\n",
       "    </tr>\n",
       "    <tr>\n",
       "      <th>16647840</th>\n",
       "      <td>107978</td>\n",
       "      <td>9645</td>\n",
       "      <td>4.000</td>\n",
       "      <td>994007728</td>\n",
       "    </tr>\n",
       "    <tr>\n",
       "      <th>23915192</th>\n",
       "      <td>155371</td>\n",
       "      <td>1092</td>\n",
       "      <td>3.000</td>\n",
       "      <td>1097887531</td>\n",
       "    </tr>\n",
       "    <tr>\n",
       "      <th>10052313</th>\n",
       "      <td>65224</td>\n",
       "      <td>227</td>\n",
       "      <td>4.000</td>\n",
       "      <td>1201382275</td>\n",
       "    </tr>\n",
       "    <tr>\n",
       "      <th>12214125</th>\n",
       "      <td>79160</td>\n",
       "      <td>964</td>\n",
       "      <td>5.000</td>\n",
       "      <td>1488915363</td>\n",
       "    </tr>\n",
       "  </tbody>\n",
       "</table>\n",
       "</div>"
      ],
      "text/plain": [
       "          userId  movieId  rating   timestamp\n",
       "15347762   99475     3024   3.500  1467897440\n",
       "16647840  107978     9645   4.000   994007728\n",
       "23915192  155371     1092   3.000  1097887531\n",
       "10052313   65224      227   4.000  1201382275\n",
       "12214125   79160      964   5.000  1488915363"
      ]
     },
     "execution_count": 8,
     "metadata": {},
     "output_type": "execute_result"
    }
   ],
   "source": [
    "ratings.head()"
   ]
  },
  {
   "cell_type": "code",
   "execution_count": null,
   "metadata": {},
   "outputs": [],
   "source": []
  },
  {
   "cell_type": "code",
   "execution_count": null,
   "metadata": {},
   "outputs": [],
   "source": []
  },
  {
   "cell_type": "code",
   "execution_count": null,
   "metadata": {},
   "outputs": [],
   "source": []
  },
  {
   "cell_type": "code",
   "execution_count": 18,
   "metadata": {},
   "outputs": [],
   "source": [
    "def get_movie_rec_for_user(user_id, ratings):\n",
    "    movies_watched_by_user = ratings[ratings.userId == user_id]\n",
    "    print(\"Movies watched by user:\")\n",
    "    print(movies_watched_by_user.head())\n",
    "    movies_not_watched = movies[\n",
    "        ~movies[\"movieId\"].isin(movies_watched_by_user.movieId.values)\n",
    "    ][\"movieId\"]\n",
    "    print(\"Movies not watched by user:\")\n",
    "    print(movies_not_watched.head())\n",
    "    movies_not_watched = list(\n",
    "        set(movies_not_watched).intersection(set(movie2idx.keys()))\n",
    "    )\n",
    "    movies_not_watched = [[movie2idx.get(x)] for x in movies_not_watched]\n",
    "    print(\"Movies not watched by user:\")\n",
    "    print(movies_not_watched[:5])\n",
    "    user_encoder = user2idx.get(user_id)\n",
    "    user_movie_array = np.hstack(\n",
    "        ([[user_encoder]] * len(movies_not_watched), movies_not_watched)\n",
    "    )\n",
    "    print(\"user_movie_array:\")\n",
    "    print(user_movie_array[:5])\n",
    "    return\n",
    "    ratings = model.predict([user_movie_array[:, 0], user_movie_array[:, 1]]).flatten()\n",
    "    top_ratings_indices = ratings.argsort()[-10:][::-1]\n",
    "    recommended_movie_ids = [\n",
    "        idx2movie.get(movies_not_watched[x][0]) for x in top_ratings_indices\n",
    "    ]\n",
    "    print(\"Showing recommendations for user: {}\".format(user_id))\n",
    "    print(\"====\" * 15)\n",
    "    print(\"Movies with high ratings from user\")\n",
    "    print(\"----\" * 15)\n",
    "    top_movies_user = (\n",
    "        movies_watched_by_user.sort_values(by=\"rating\", ascending=False)\n",
    "        .head(5)\n",
    "        .movieId\n",
    "        .values\n",
    "    )\n",
    "    movie_df_rows = movies[movies[\"movieId\"].isin(top_movies_user)]\n",
    "    for row in movie_df_rows.itertuples():\n",
    "        print(row.title, \":\", row.genres)\n",
    "\n",
    "    print(\"----\" * 15)\n",
    "    print(\"Top 10 movie recommendations\")\n",
    "    print(\"----\" * 15)\n",
    "    recommended_movies = movies[movies[\"movieId\"].isin(recommended_movie_ids)]\n",
    "    for row in recommended_movies.itertuples():\n",
    "        print(row.title, \":\", row.genres, \"TMDB:\", links.loc[links[\"movieId\"] == row.movieId].tmdbId.values)"
   ]
  },
  {
   "cell_type": "code",
   "execution_count": 19,
   "metadata": {},
   "outputs": [
    {
     "data": {
      "text/plain": [
       "67201.0"
      ]
     },
     "execution_count": 19,
     "metadata": {},
     "output_type": "execute_result"
    }
   ],
   "source": [
    "user_id = ratings.sample(1).iloc[0].userId\n",
    "user_id"
   ]
  },
  {
   "cell_type": "code",
   "execution_count": 20,
   "metadata": {},
   "outputs": [
    {
     "name": "stdout",
     "output_type": "stream",
     "text": [
      "Movies watched by user:\n",
      "          userId  movieId  rating   timestamp\n",
      "10359973   67201      351   4.000  1489573341\n",
      "10359950   67201      264   5.000  1489573275\n",
      "10359959   67201      114   0.500  1489572895\n",
      "10359976   67201      208   4.500  1489573051\n",
      "10359958   67201      278   3.000  1489572909\n",
      "Movies not watched by user:\n",
      "0    1\n",
      "1    2\n",
      "2    3\n",
      "3    4\n",
      "4    5\n",
      "Name: movieId, dtype: int64\n",
      "Movies not watched by user:\n",
      "[[29744], [70], [1103], [1017], [4270]]\n",
      "user_movie_array:\n",
      "[[67200 29744]\n",
      " [67200    70]\n",
      " [67200  1103]\n",
      " [67200  1017]\n",
      " [67200  4270]]\n"
     ]
    }
   ],
   "source": [
    "get_movie_rec_for_user(user_id, ratings)"
   ]
  },
  {
   "cell_type": "code",
   "execution_count": null,
   "metadata": {},
   "outputs": [],
   "source": []
  }
 ],
 "metadata": {
  "kernelspec": {
   "display_name": "Python 3",
   "language": "python",
   "name": "python3"
  },
  "language_info": {
   "codemirror_mode": {
    "name": "ipython",
    "version": 3
   },
   "file_extension": ".py",
   "mimetype": "text/x-python",
   "name": "python",
   "nbconvert_exporter": "python",
   "pygments_lexer": "ipython3",
   "version": "3.6.8"
  }
 },
 "nbformat": 4,
 "nbformat_minor": 2
}
