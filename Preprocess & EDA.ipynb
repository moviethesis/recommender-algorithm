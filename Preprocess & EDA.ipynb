{
 "cells": [
  {
   "cell_type": "code",
   "execution_count": 1,
   "metadata": {},
   "outputs": [],
   "source": [
    "# import dependencies\n",
    "import pandas as pd\n",
    "import numpy as np\n",
    "from numpy import array\n",
    "from numpy import asarray\n",
    "from numpy import zeros\n",
    "import seaborn as sns\n",
    "import matplotlib.pyplot as plt\n",
    "%matplotlib inline\n",
    "\n",
    "from zipfile import ZipFile\n",
    "import json\n",
    "import os.path\n",
    "import re\n",
    "import pickle\n",
    "\n",
    "import data_download\n",
    "\n",
    "# Add some convenience functions to Pandas DataFrame.\n",
    "pd.options.display.max_rows = 10\n",
    "pd.options.display.float_format = '{:.3f}'.format\n",
    "def mask(df, key, function):\n",
    "  \"\"\"Returns a filtered dataframe, by applying function to key\"\"\"\n",
    "  return df[function(df[key])]\n",
    "\n",
    "def flatten_cols(df):\n",
    "  df.columns = [' '.join(col).strip() for col in df.columns.values]\n",
    "  return df\n",
    "\n",
    "pd.DataFrame.mask = mask\n",
    "pd.DataFrame.flatten_cols = flatten_cols"
   ]
  },
  {
   "cell_type": "code",
   "execution_count": 2,
   "metadata": {},
   "outputs": [
    {
     "name": "stdout",
     "output_type": "stream",
     "text": [
      "MovieLens 25M Dataset is downloaded!\n",
      "MovieLens Latest Small Dataset is downloaded!\n",
      "MovieLens 25M Dataset is already extracted!\n",
      "MovieLens Latest Small Dataset is already extracted!\n"
     ]
    }
   ],
   "source": [
    "# movies, links, ratings, tags = data_download.load_unprocessed_df(use_large=False)\n",
    "movies, links, ratings, tags, genome_tags, genome_scores = data_download.load_unprocessed_df(use_large=True)"
   ]
  },
  {
   "cell_type": "markdown",
   "metadata": {},
   "source": [
    "# EDA"
   ]
  },
  {
   "cell_type": "markdown",
   "metadata": {},
   "source": [
    "Let's look at the data"
   ]
  },
  {
   "cell_type": "code",
   "execution_count": 3,
   "metadata": {},
   "outputs": [
    {
     "name": "stdout",
     "output_type": "stream",
     "text": [
      "62423 unique movies in movies.csv\n",
      "59047 unique movies in ratings.csv\n",
      "45251 unique movies in tags.csv\n"
     ]
    }
   ],
   "source": [
    "print(\"{} unique movies in movies.csv\".format(len(movies.movieId.unique())))\n",
    "print(\"{} unique movies in ratings.csv\".format(len(ratings.movieId.unique())))\n",
    "print(\"{} unique movies in tags.csv\".format(len(tags.movieId.unique())))"
   ]
  },
  {
   "cell_type": "code",
   "execution_count": 4,
   "metadata": {},
   "outputs": [
    {
     "name": "stdout",
     "output_type": "stream",
     "text": [
      "162541 unique users in ratings.csv\n"
     ]
    }
   ],
   "source": [
    "print(\"{} unique users in ratings.csv\".format(len(ratings.userId.unique())))"
   ]
  },
  {
   "cell_type": "code",
   "execution_count": 5,
   "metadata": {
    "scrolled": true
   },
   "outputs": [
    {
     "data": {
      "text/html": [
       "<div>\n",
       "<style scoped>\n",
       "    .dataframe tbody tr th:only-of-type {\n",
       "        vertical-align: middle;\n",
       "    }\n",
       "\n",
       "    .dataframe tbody tr th {\n",
       "        vertical-align: top;\n",
       "    }\n",
       "\n",
       "    .dataframe thead th {\n",
       "        text-align: right;\n",
       "    }\n",
       "</style>\n",
       "<table border=\"1\" class=\"dataframe\">\n",
       "  <thead>\n",
       "    <tr style=\"text-align: right;\">\n",
       "      <th></th>\n",
       "      <th>movieId</th>\n",
       "      <th>title</th>\n",
       "      <th>genres</th>\n",
       "    </tr>\n",
       "  </thead>\n",
       "  <tbody>\n",
       "    <tr>\n",
       "      <th>61444</th>\n",
       "      <td>205933</td>\n",
       "      <td>August in the Water (1995)</td>\n",
       "      <td>Drama|Fantasy|Sci-Fi</td>\n",
       "    </tr>\n",
       "    <tr>\n",
       "      <th>54463</th>\n",
       "      <td>189627</td>\n",
       "      <td>Katie Says Goodbye (2018)</td>\n",
       "      <td>(no genres listed)</td>\n",
       "    </tr>\n",
       "    <tr>\n",
       "      <th>19942</th>\n",
       "      <td>103474</td>\n",
       "      <td>How to Make Money Selling Drugs (2013)</td>\n",
       "      <td>Documentary</td>\n",
       "    </tr>\n",
       "    <tr>\n",
       "      <th>52877</th>\n",
       "      <td>186273</td>\n",
       "      <td>The Guardian Angel (2018)</td>\n",
       "      <td>Crime|Thriller</td>\n",
       "    </tr>\n",
       "    <tr>\n",
       "      <th>24193</th>\n",
       "      <td>120879</td>\n",
       "      <td>Soap and Water (1983)</td>\n",
       "      <td>Comedy</td>\n",
       "    </tr>\n",
       "    <tr>\n",
       "      <th>25220</th>\n",
       "      <td>123252</td>\n",
       "      <td>I Accuse! (1958)</td>\n",
       "      <td>Drama</td>\n",
       "    </tr>\n",
       "    <tr>\n",
       "      <th>43025</th>\n",
       "      <td>165121</td>\n",
       "      <td>Faintheart (2008)</td>\n",
       "      <td>Comedy</td>\n",
       "    </tr>\n",
       "    <tr>\n",
       "      <th>8053</th>\n",
       "      <td>8767</td>\n",
       "      <td>Big Clock, The (1948)</td>\n",
       "      <td>Crime|Film-Noir|Thriller</td>\n",
       "    </tr>\n",
       "    <tr>\n",
       "      <th>52014</th>\n",
       "      <td>184389</td>\n",
       "      <td>Under The Greenwood Tree (2005)</td>\n",
       "      <td>Drama|Romance</td>\n",
       "    </tr>\n",
       "    <tr>\n",
       "      <th>2521</th>\n",
       "      <td>2612</td>\n",
       "      <td>Mildred Pierce (1945)</td>\n",
       "      <td>Drama|Film-Noir</td>\n",
       "    </tr>\n",
       "  </tbody>\n",
       "</table>\n",
       "</div>"
      ],
      "text/plain": [
       "       movieId                                   title  \\\n",
       "61444   205933              August in the Water (1995)   \n",
       "54463   189627               Katie Says Goodbye (2018)   \n",
       "19942   103474  How to Make Money Selling Drugs (2013)   \n",
       "52877   186273               The Guardian Angel (2018)   \n",
       "24193   120879                   Soap and Water (1983)   \n",
       "25220   123252                        I Accuse! (1958)   \n",
       "43025   165121                       Faintheart (2008)   \n",
       "8053      8767                   Big Clock, The (1948)   \n",
       "52014   184389         Under The Greenwood Tree (2005)   \n",
       "2521      2612                   Mildred Pierce (1945)   \n",
       "\n",
       "                         genres  \n",
       "61444      Drama|Fantasy|Sci-Fi  \n",
       "54463        (no genres listed)  \n",
       "19942               Documentary  \n",
       "52877            Crime|Thriller  \n",
       "24193                    Comedy  \n",
       "25220                     Drama  \n",
       "43025                    Comedy  \n",
       "8053   Crime|Film-Noir|Thriller  \n",
       "52014             Drama|Romance  \n",
       "2521            Drama|Film-Noir  "
      ]
     },
     "execution_count": 5,
     "metadata": {},
     "output_type": "execute_result"
    }
   ],
   "source": [
    "movies.sample(10)"
   ]
  },
  {
   "cell_type": "code",
   "execution_count": 6,
   "metadata": {},
   "outputs": [
    {
     "data": {
      "text/plain": [
       "(62423, 3)"
      ]
     },
     "execution_count": 6,
     "metadata": {},
     "output_type": "execute_result"
    }
   ],
   "source": [
    "movies.shape"
   ]
  },
  {
   "cell_type": "code",
   "execution_count": 7,
   "metadata": {},
   "outputs": [
    {
     "data": {
      "text/plain": [
       "movieId     int64\n",
       "title      object\n",
       "genres     object\n",
       "dtype: object"
      ]
     },
     "execution_count": 7,
     "metadata": {},
     "output_type": "execute_result"
    }
   ],
   "source": [
    "movies.dtypes"
   ]
  },
  {
   "cell_type": "code",
   "execution_count": 8,
   "metadata": {},
   "outputs": [
    {
     "data": {
      "text/plain": [
       "movieId    0\n",
       "title      0\n",
       "genres     0\n",
       "dtype: int64"
      ]
     },
     "execution_count": 8,
     "metadata": {},
     "output_type": "execute_result"
    }
   ],
   "source": [
    "movies.isna().sum()"
   ]
  },
  {
   "cell_type": "code",
   "execution_count": 9,
   "metadata": {},
   "outputs": [
    {
     "data": {
      "text/html": [
       "<div>\n",
       "<style scoped>\n",
       "    .dataframe tbody tr th:only-of-type {\n",
       "        vertical-align: middle;\n",
       "    }\n",
       "\n",
       "    .dataframe tbody tr th {\n",
       "        vertical-align: top;\n",
       "    }\n",
       "\n",
       "    .dataframe thead th {\n",
       "        text-align: right;\n",
       "    }\n",
       "</style>\n",
       "<table border=\"1\" class=\"dataframe\">\n",
       "  <thead>\n",
       "    <tr style=\"text-align: right;\">\n",
       "      <th></th>\n",
       "      <th>movieId</th>\n",
       "      <th>imdbId</th>\n",
       "      <th>tmdbId</th>\n",
       "    </tr>\n",
       "  </thead>\n",
       "  <tbody>\n",
       "    <tr>\n",
       "      <th>27947</th>\n",
       "      <td>130556</td>\n",
       "      <td>72300</td>\n",
       "      <td>86574.000</td>\n",
       "    </tr>\n",
       "    <tr>\n",
       "      <th>37187</th>\n",
       "      <td>152087</td>\n",
       "      <td>1002563</td>\n",
       "      <td>318850.000</td>\n",
       "    </tr>\n",
       "    <tr>\n",
       "      <th>58964</th>\n",
       "      <td>199800</td>\n",
       "      <td>1298761</td>\n",
       "      <td>189349.000</td>\n",
       "    </tr>\n",
       "    <tr>\n",
       "      <th>58585</th>\n",
       "      <td>198921</td>\n",
       "      <td>8041922</td>\n",
       "      <td>559994.000</td>\n",
       "    </tr>\n",
       "    <tr>\n",
       "      <th>34269</th>\n",
       "      <td>145030</td>\n",
       "      <td>2006295</td>\n",
       "      <td>293646.000</td>\n",
       "    </tr>\n",
       "    <tr>\n",
       "      <th>26944</th>\n",
       "      <td>127843</td>\n",
       "      <td>85991</td>\n",
       "      <td>17895.000</td>\n",
       "    </tr>\n",
       "    <tr>\n",
       "      <th>7617</th>\n",
       "      <td>8069</td>\n",
       "      <td>77360</td>\n",
       "      <td>42201.000</td>\n",
       "    </tr>\n",
       "    <tr>\n",
       "      <th>27013</th>\n",
       "      <td>128097</td>\n",
       "      <td>3234126</td>\n",
       "      <td>216553.000</td>\n",
       "    </tr>\n",
       "    <tr>\n",
       "      <th>50783</th>\n",
       "      <td>181773</td>\n",
       "      <td>40303</td>\n",
       "      <td>55518.000</td>\n",
       "    </tr>\n",
       "    <tr>\n",
       "      <th>43608</th>\n",
       "      <td>166449</td>\n",
       "      <td>65798</td>\n",
       "      <td>106887.000</td>\n",
       "    </tr>\n",
       "  </tbody>\n",
       "</table>\n",
       "</div>"
      ],
      "text/plain": [
       "       movieId   imdbId     tmdbId\n",
       "27947   130556    72300  86574.000\n",
       "37187   152087  1002563 318850.000\n",
       "58964   199800  1298761 189349.000\n",
       "58585   198921  8041922 559994.000\n",
       "34269   145030  2006295 293646.000\n",
       "26944   127843    85991  17895.000\n",
       "7617      8069    77360  42201.000\n",
       "27013   128097  3234126 216553.000\n",
       "50783   181773    40303  55518.000\n",
       "43608   166449    65798 106887.000"
      ]
     },
     "execution_count": 9,
     "metadata": {},
     "output_type": "execute_result"
    }
   ],
   "source": [
    "links.sample(10)"
   ]
  },
  {
   "cell_type": "code",
   "execution_count": 10,
   "metadata": {},
   "outputs": [
    {
     "data": {
      "text/plain": [
       "(62423, 3)"
      ]
     },
     "execution_count": 10,
     "metadata": {},
     "output_type": "execute_result"
    }
   ],
   "source": [
    "links.shape"
   ]
  },
  {
   "cell_type": "code",
   "execution_count": 11,
   "metadata": {},
   "outputs": [
    {
     "data": {
      "text/plain": [
       "movieId      int64\n",
       "imdbId       int64\n",
       "tmdbId     float64\n",
       "dtype: object"
      ]
     },
     "execution_count": 11,
     "metadata": {},
     "output_type": "execute_result"
    }
   ],
   "source": [
    "links.dtypes"
   ]
  },
  {
   "cell_type": "code",
   "execution_count": 12,
   "metadata": {},
   "outputs": [
    {
     "data": {
      "text/plain": [
       "movieId      0\n",
       "imdbId       0\n",
       "tmdbId     107\n",
       "dtype: int64"
      ]
     },
     "execution_count": 12,
     "metadata": {},
     "output_type": "execute_result"
    }
   ],
   "source": [
    "links.isna().sum()"
   ]
  },
  {
   "cell_type": "code",
   "execution_count": 13,
   "metadata": {
    "scrolled": true
   },
   "outputs": [
    {
     "data": {
      "text/html": [
       "<div>\n",
       "<style scoped>\n",
       "    .dataframe tbody tr th:only-of-type {\n",
       "        vertical-align: middle;\n",
       "    }\n",
       "\n",
       "    .dataframe tbody tr th {\n",
       "        vertical-align: top;\n",
       "    }\n",
       "\n",
       "    .dataframe thead th {\n",
       "        text-align: right;\n",
       "    }\n",
       "</style>\n",
       "<table border=\"1\" class=\"dataframe\">\n",
       "  <thead>\n",
       "    <tr style=\"text-align: right;\">\n",
       "      <th></th>\n",
       "      <th>userId</th>\n",
       "      <th>movieId</th>\n",
       "      <th>rating</th>\n",
       "      <th>timestamp</th>\n",
       "    </tr>\n",
       "  </thead>\n",
       "  <tbody>\n",
       "    <tr>\n",
       "      <th>19293534</th>\n",
       "      <td>125225</td>\n",
       "      <td>107406</td>\n",
       "      <td>4.000</td>\n",
       "      <td>1568952604</td>\n",
       "    </tr>\n",
       "    <tr>\n",
       "      <th>18159090</th>\n",
       "      <td>117600</td>\n",
       "      <td>6936</td>\n",
       "      <td>4.500</td>\n",
       "      <td>1504285309</td>\n",
       "    </tr>\n",
       "    <tr>\n",
       "      <th>2055435</th>\n",
       "      <td>13699</td>\n",
       "      <td>4308</td>\n",
       "      <td>4.000</td>\n",
       "      <td>1009091067</td>\n",
       "    </tr>\n",
       "    <tr>\n",
       "      <th>23091697</th>\n",
       "      <td>150005</td>\n",
       "      <td>27571</td>\n",
       "      <td>3.500</td>\n",
       "      <td>1384650163</td>\n",
       "    </tr>\n",
       "    <tr>\n",
       "      <th>15380662</th>\n",
       "      <td>99677</td>\n",
       "      <td>2916</td>\n",
       "      <td>3.500</td>\n",
       "      <td>1306939580</td>\n",
       "    </tr>\n",
       "    <tr>\n",
       "      <th>7106157</th>\n",
       "      <td>46082</td>\n",
       "      <td>1129</td>\n",
       "      <td>5.000</td>\n",
       "      <td>911238866</td>\n",
       "    </tr>\n",
       "    <tr>\n",
       "      <th>19148431</th>\n",
       "      <td>124233</td>\n",
       "      <td>138036</td>\n",
       "      <td>4.000</td>\n",
       "      <td>1450384701</td>\n",
       "    </tr>\n",
       "    <tr>\n",
       "      <th>19468592</th>\n",
       "      <td>126377</td>\n",
       "      <td>3243</td>\n",
       "      <td>3.000</td>\n",
       "      <td>1516228402</td>\n",
       "    </tr>\n",
       "    <tr>\n",
       "      <th>16617943</th>\n",
       "      <td>107787</td>\n",
       "      <td>103341</td>\n",
       "      <td>3.500</td>\n",
       "      <td>1445609475</td>\n",
       "    </tr>\n",
       "    <tr>\n",
       "      <th>10197903</th>\n",
       "      <td>66129</td>\n",
       "      <td>356</td>\n",
       "      <td>4.000</td>\n",
       "      <td>1111557259</td>\n",
       "    </tr>\n",
       "  </tbody>\n",
       "</table>\n",
       "</div>"
      ],
      "text/plain": [
       "          userId  movieId  rating   timestamp\n",
       "19293534  125225   107406   4.000  1568952604\n",
       "18159090  117600     6936   4.500  1504285309\n",
       "2055435    13699     4308   4.000  1009091067\n",
       "23091697  150005    27571   3.500  1384650163\n",
       "15380662   99677     2916   3.500  1306939580\n",
       "7106157    46082     1129   5.000   911238866\n",
       "19148431  124233   138036   4.000  1450384701\n",
       "19468592  126377     3243   3.000  1516228402\n",
       "16617943  107787   103341   3.500  1445609475\n",
       "10197903   66129      356   4.000  1111557259"
      ]
     },
     "execution_count": 13,
     "metadata": {},
     "output_type": "execute_result"
    }
   ],
   "source": [
    "ratings.sample(10)"
   ]
  },
  {
   "cell_type": "code",
   "execution_count": 14,
   "metadata": {},
   "outputs": [
    {
     "data": {
      "text/plain": [
       "(25000095, 4)"
      ]
     },
     "execution_count": 14,
     "metadata": {},
     "output_type": "execute_result"
    }
   ],
   "source": [
    "ratings.shape"
   ]
  },
  {
   "cell_type": "code",
   "execution_count": 15,
   "metadata": {},
   "outputs": [
    {
     "data": {
      "text/plain": [
       "userId         int64\n",
       "movieId        int64\n",
       "rating       float64\n",
       "timestamp      int64\n",
       "dtype: object"
      ]
     },
     "execution_count": 15,
     "metadata": {},
     "output_type": "execute_result"
    }
   ],
   "source": [
    "ratings.dtypes"
   ]
  },
  {
   "cell_type": "code",
   "execution_count": 16,
   "metadata": {},
   "outputs": [
    {
     "data": {
      "text/plain": [
       "userId       0\n",
       "movieId      0\n",
       "rating       0\n",
       "timestamp    0\n",
       "dtype: int64"
      ]
     },
     "execution_count": 16,
     "metadata": {},
     "output_type": "execute_result"
    }
   ],
   "source": [
    "ratings.isna().sum()"
   ]
  },
  {
   "cell_type": "code",
   "execution_count": 17,
   "metadata": {
    "scrolled": true
   },
   "outputs": [
    {
     "data": {
      "text/html": [
       "<div>\n",
       "<style scoped>\n",
       "    .dataframe tbody tr th:only-of-type {\n",
       "        vertical-align: middle;\n",
       "    }\n",
       "\n",
       "    .dataframe tbody tr th {\n",
       "        vertical-align: top;\n",
       "    }\n",
       "\n",
       "    .dataframe thead th {\n",
       "        text-align: right;\n",
       "    }\n",
       "</style>\n",
       "<table border=\"1\" class=\"dataframe\">\n",
       "  <thead>\n",
       "    <tr style=\"text-align: right;\">\n",
       "      <th></th>\n",
       "      <th>userId</th>\n",
       "      <th>movieId</th>\n",
       "      <th>tag</th>\n",
       "      <th>timestamp</th>\n",
       "    </tr>\n",
       "  </thead>\n",
       "  <tbody>\n",
       "    <tr>\n",
       "      <th>437736</th>\n",
       "      <td>43201</td>\n",
       "      <td>2571</td>\n",
       "      <td>superpowers</td>\n",
       "      <td>1553532093</td>\n",
       "    </tr>\n",
       "    <tr>\n",
       "      <th>299008</th>\n",
       "      <td>20075</td>\n",
       "      <td>1036</td>\n",
       "      <td>action</td>\n",
       "      <td>1371476015</td>\n",
       "    </tr>\n",
       "    <tr>\n",
       "      <th>774577</th>\n",
       "      <td>103712</td>\n",
       "      <td>6502</td>\n",
       "      <td>great soundtrack</td>\n",
       "      <td>1289275217</td>\n",
       "    </tr>\n",
       "    <tr>\n",
       "      <th>927727</th>\n",
       "      <td>133412</td>\n",
       "      <td>59369</td>\n",
       "      <td>father daughter relationship</td>\n",
       "      <td>1341779293</td>\n",
       "    </tr>\n",
       "    <tr>\n",
       "      <th>453413</th>\n",
       "      <td>45219</td>\n",
       "      <td>69481</td>\n",
       "      <td>thriller</td>\n",
       "      <td>1534547985</td>\n",
       "    </tr>\n",
       "    <tr>\n",
       "      <th>668215</th>\n",
       "      <td>83426</td>\n",
       "      <td>147346</td>\n",
       "      <td>serial killer</td>\n",
       "      <td>1551327394</td>\n",
       "    </tr>\n",
       "    <tr>\n",
       "      <th>486982</th>\n",
       "      <td>51750</td>\n",
       "      <td>47610</td>\n",
       "      <td>twist ending</td>\n",
       "      <td>1377053949</td>\n",
       "    </tr>\n",
       "    <tr>\n",
       "      <th>58459</th>\n",
       "      <td>6550</td>\n",
       "      <td>2710</td>\n",
       "      <td>true</td>\n",
       "      <td>1528612563</td>\n",
       "    </tr>\n",
       "    <tr>\n",
       "      <th>320460</th>\n",
       "      <td>21096</td>\n",
       "      <td>77181</td>\n",
       "      <td>politics</td>\n",
       "      <td>1311542577</td>\n",
       "    </tr>\n",
       "    <tr>\n",
       "      <th>223278</th>\n",
       "      <td>6729</td>\n",
       "      <td>122904</td>\n",
       "      <td>Marvel</td>\n",
       "      <td>1455506214</td>\n",
       "    </tr>\n",
       "  </tbody>\n",
       "</table>\n",
       "</div>"
      ],
      "text/plain": [
       "        userId  movieId                           tag   timestamp\n",
       "437736   43201     2571                   superpowers  1553532093\n",
       "299008   20075     1036                        action  1371476015\n",
       "774577  103712     6502              great soundtrack  1289275217\n",
       "927727  133412    59369  father daughter relationship  1341779293\n",
       "453413   45219    69481                      thriller  1534547985\n",
       "668215   83426   147346                 serial killer  1551327394\n",
       "486982   51750    47610                  twist ending  1377053949\n",
       "58459     6550     2710                          true  1528612563\n",
       "320460   21096    77181                      politics  1311542577\n",
       "223278    6729   122904                        Marvel  1455506214"
      ]
     },
     "execution_count": 17,
     "metadata": {},
     "output_type": "execute_result"
    }
   ],
   "source": [
    "tags.sample(10)"
   ]
  },
  {
   "cell_type": "code",
   "execution_count": 18,
   "metadata": {},
   "outputs": [
    {
     "data": {
      "text/plain": [
       "(1093360, 4)"
      ]
     },
     "execution_count": 18,
     "metadata": {},
     "output_type": "execute_result"
    }
   ],
   "source": [
    "tags.shape"
   ]
  },
  {
   "cell_type": "code",
   "execution_count": 19,
   "metadata": {},
   "outputs": [
    {
     "data": {
      "text/plain": [
       "userId        int64\n",
       "movieId       int64\n",
       "tag          object\n",
       "timestamp     int64\n",
       "dtype: object"
      ]
     },
     "execution_count": 19,
     "metadata": {},
     "output_type": "execute_result"
    }
   ],
   "source": [
    "tags.dtypes"
   ]
  },
  {
   "cell_type": "code",
   "execution_count": 20,
   "metadata": {},
   "outputs": [
    {
     "data": {
      "text/plain": [
       "userId        0\n",
       "movieId       0\n",
       "tag          16\n",
       "timestamp     0\n",
       "dtype: int64"
      ]
     },
     "execution_count": 20,
     "metadata": {},
     "output_type": "execute_result"
    }
   ],
   "source": [
    "tags.isna().sum()"
   ]
  },
  {
   "cell_type": "code",
   "execution_count": 21,
   "metadata": {
    "scrolled": true
   },
   "outputs": [
    {
     "data": {
      "text/html": [
       "<div>\n",
       "<style scoped>\n",
       "    .dataframe tbody tr th:only-of-type {\n",
       "        vertical-align: middle;\n",
       "    }\n",
       "\n",
       "    .dataframe tbody tr th {\n",
       "        vertical-align: top;\n",
       "    }\n",
       "\n",
       "    .dataframe thead th {\n",
       "        text-align: right;\n",
       "    }\n",
       "</style>\n",
       "<table border=\"1\" class=\"dataframe\">\n",
       "  <thead>\n",
       "    <tr style=\"text-align: right;\">\n",
       "      <th></th>\n",
       "      <th>tagId</th>\n",
       "      <th>tag</th>\n",
       "    </tr>\n",
       "  </thead>\n",
       "  <tbody>\n",
       "    <tr>\n",
       "      <th>141</th>\n",
       "      <td>142</td>\n",
       "      <td>blaxploitation</td>\n",
       "    </tr>\n",
       "    <tr>\n",
       "      <th>853</th>\n",
       "      <td>854</td>\n",
       "      <td>road movie</td>\n",
       "    </tr>\n",
       "    <tr>\n",
       "      <th>66</th>\n",
       "      <td>67</td>\n",
       "      <td>anti-hero</td>\n",
       "    </tr>\n",
       "    <tr>\n",
       "      <th>977</th>\n",
       "      <td>978</td>\n",
       "      <td>stupid</td>\n",
       "    </tr>\n",
       "    <tr>\n",
       "      <th>932</th>\n",
       "      <td>933</td>\n",
       "      <td>so bad it's funny</td>\n",
       "    </tr>\n",
       "    <tr>\n",
       "      <th>426</th>\n",
       "      <td>427</td>\n",
       "      <td>geek</td>\n",
       "    </tr>\n",
       "    <tr>\n",
       "      <th>1056</th>\n",
       "      <td>1057</td>\n",
       "      <td>unfunny</td>\n",
       "    </tr>\n",
       "    <tr>\n",
       "      <th>884</th>\n",
       "      <td>885</td>\n",
       "      <td>school</td>\n",
       "    </tr>\n",
       "    <tr>\n",
       "      <th>1086</th>\n",
       "      <td>1087</td>\n",
       "      <td>virtual reality</td>\n",
       "    </tr>\n",
       "    <tr>\n",
       "      <th>844</th>\n",
       "      <td>845</td>\n",
       "      <td>reflective</td>\n",
       "    </tr>\n",
       "  </tbody>\n",
       "</table>\n",
       "</div>"
      ],
      "text/plain": [
       "      tagId                tag\n",
       "141     142     blaxploitation\n",
       "853     854         road movie\n",
       "66       67          anti-hero\n",
       "977     978             stupid\n",
       "932     933  so bad it's funny\n",
       "426     427               geek\n",
       "1056   1057            unfunny\n",
       "884     885             school\n",
       "1086   1087    virtual reality\n",
       "844     845         reflective"
      ]
     },
     "execution_count": 21,
     "metadata": {},
     "output_type": "execute_result"
    }
   ],
   "source": [
    "genome_tags.sample(10)"
   ]
  },
  {
   "cell_type": "code",
   "execution_count": 22,
   "metadata": {},
   "outputs": [
    {
     "data": {
      "text/plain": [
       "(1128, 2)"
      ]
     },
     "execution_count": 22,
     "metadata": {},
     "output_type": "execute_result"
    }
   ],
   "source": [
    "genome_tags.shape"
   ]
  },
  {
   "cell_type": "code",
   "execution_count": 23,
   "metadata": {},
   "outputs": [
    {
     "data": {
      "text/plain": [
       "tagId     int64\n",
       "tag      object\n",
       "dtype: object"
      ]
     },
     "execution_count": 23,
     "metadata": {},
     "output_type": "execute_result"
    }
   ],
   "source": [
    "genome_tags.dtypes"
   ]
  },
  {
   "cell_type": "code",
   "execution_count": 24,
   "metadata": {},
   "outputs": [
    {
     "data": {
      "text/plain": [
       "tagId    0\n",
       "tag      0\n",
       "dtype: int64"
      ]
     },
     "execution_count": 24,
     "metadata": {},
     "output_type": "execute_result"
    }
   ],
   "source": [
    "genome_tags.isna().sum()"
   ]
  },
  {
   "cell_type": "code",
   "execution_count": 25,
   "metadata": {
    "scrolled": true
   },
   "outputs": [
    {
     "data": {
      "text/html": [
       "<div>\n",
       "<style scoped>\n",
       "    .dataframe tbody tr th:only-of-type {\n",
       "        vertical-align: middle;\n",
       "    }\n",
       "\n",
       "    .dataframe tbody tr th {\n",
       "        vertical-align: top;\n",
       "    }\n",
       "\n",
       "    .dataframe thead th {\n",
       "        text-align: right;\n",
       "    }\n",
       "</style>\n",
       "<table border=\"1\" class=\"dataframe\">\n",
       "  <thead>\n",
       "    <tr style=\"text-align: right;\">\n",
       "      <th></th>\n",
       "      <th>movieId</th>\n",
       "      <th>tagId</th>\n",
       "      <th>relevance</th>\n",
       "    </tr>\n",
       "  </thead>\n",
       "  <tbody>\n",
       "    <tr>\n",
       "      <th>4226985</th>\n",
       "      <td>4177</td>\n",
       "      <td>370</td>\n",
       "      <td>0.051</td>\n",
       "    </tr>\n",
       "    <tr>\n",
       "      <th>11240537</th>\n",
       "      <td>71533</td>\n",
       "      <td>18</td>\n",
       "      <td>0.395</td>\n",
       "    </tr>\n",
       "    <tr>\n",
       "      <th>6247561</th>\n",
       "      <td>6255</td>\n",
       "      <td>698</td>\n",
       "      <td>0.005</td>\n",
       "    </tr>\n",
       "    <tr>\n",
       "      <th>1194213</th>\n",
       "      <td>1179</td>\n",
       "      <td>790</td>\n",
       "      <td>0.035</td>\n",
       "    </tr>\n",
       "    <tr>\n",
       "      <th>10065830</th>\n",
       "      <td>52838</td>\n",
       "      <td>687</td>\n",
       "      <td>0.029</td>\n",
       "    </tr>\n",
       "    <tr>\n",
       "      <th>11165841</th>\n",
       "      <td>70637</td>\n",
       "      <td>898</td>\n",
       "      <td>0.311</td>\n",
       "    </tr>\n",
       "    <tr>\n",
       "      <th>10151973</th>\n",
       "      <td>54171</td>\n",
       "      <td>1102</td>\n",
       "      <td>0.013</td>\n",
       "    </tr>\n",
       "    <tr>\n",
       "      <th>2496713</th>\n",
       "      <td>2475</td>\n",
       "      <td>450</td>\n",
       "      <td>0.038</td>\n",
       "    </tr>\n",
       "    <tr>\n",
       "      <th>12963901</th>\n",
       "      <td>104374</td>\n",
       "      <td>926</td>\n",
       "      <td>0.114</td>\n",
       "    </tr>\n",
       "    <tr>\n",
       "      <th>7367671</th>\n",
       "      <td>7618</td>\n",
       "      <td>704</td>\n",
       "      <td>0.076</td>\n",
       "    </tr>\n",
       "  </tbody>\n",
       "</table>\n",
       "</div>"
      ],
      "text/plain": [
       "          movieId  tagId  relevance\n",
       "4226985      4177    370      0.051\n",
       "11240537    71533     18      0.395\n",
       "6247561      6255    698      0.005\n",
       "1194213      1179    790      0.035\n",
       "10065830    52838    687      0.029\n",
       "11165841    70637    898      0.311\n",
       "10151973    54171   1102      0.013\n",
       "2496713      2475    450      0.038\n",
       "12963901   104374    926      0.114\n",
       "7367671      7618    704      0.076"
      ]
     },
     "execution_count": 25,
     "metadata": {},
     "output_type": "execute_result"
    }
   ],
   "source": [
    "genome_scores.sample(10)"
   ]
  },
  {
   "cell_type": "code",
   "execution_count": 26,
   "metadata": {},
   "outputs": [
    {
     "data": {
      "text/plain": [
       "(15584448, 3)"
      ]
     },
     "execution_count": 26,
     "metadata": {},
     "output_type": "execute_result"
    }
   ],
   "source": [
    "genome_scores.shape"
   ]
  },
  {
   "cell_type": "code",
   "execution_count": 27,
   "metadata": {},
   "outputs": [
    {
     "data": {
      "text/plain": [
       "movieId        int64\n",
       "tagId          int64\n",
       "relevance    float64\n",
       "dtype: object"
      ]
     },
     "execution_count": 27,
     "metadata": {},
     "output_type": "execute_result"
    }
   ],
   "source": [
    "genome_scores.dtypes"
   ]
  },
  {
   "cell_type": "code",
   "execution_count": 28,
   "metadata": {},
   "outputs": [
    {
     "data": {
      "text/plain": [
       "movieId      0\n",
       "tagId        0\n",
       "relevance    0\n",
       "dtype: int64"
      ]
     },
     "execution_count": 28,
     "metadata": {},
     "output_type": "execute_result"
    }
   ],
   "source": [
    "genome_scores.isna().sum()"
   ]
  },
  {
   "cell_type": "markdown",
   "metadata": {},
   "source": [
    "Do basic statistics on the dataset"
   ]
  },
  {
   "cell_type": "code",
   "execution_count": 29,
   "metadata": {},
   "outputs": [],
   "source": [
    "n_users = ratings['userId'].nunique()\n",
    "n_movies = ratings['movieId'].nunique()"
   ]
  },
  {
   "cell_type": "code",
   "execution_count": 30,
   "metadata": {},
   "outputs": [
    {
     "name": "stdout",
     "output_type": "stream",
     "text": [
      "number of users: 162541\n",
      "number of movies: 59047\n"
     ]
    }
   ],
   "source": [
    "print('number of users: {}\\nnumber of movies: {}'.format(n_users, n_movies))"
   ]
  },
  {
   "cell_type": "code",
   "execution_count": 31,
   "metadata": {},
   "outputs": [],
   "source": [
    "movie_summary = pd.DataFrame(ratings.groupby('movieId')['rating'].mean())"
   ]
  },
  {
   "cell_type": "code",
   "execution_count": 32,
   "metadata": {},
   "outputs": [],
   "source": [
    "movie_summary['ratings_count'] = ratings.groupby('movieId')['rating'].count()"
   ]
  },
  {
   "cell_type": "code",
   "execution_count": 33,
   "metadata": {},
   "outputs": [
    {
     "data": {
      "text/html": [
       "<div>\n",
       "<style scoped>\n",
       "    .dataframe tbody tr th:only-of-type {\n",
       "        vertical-align: middle;\n",
       "    }\n",
       "\n",
       "    .dataframe tbody tr th {\n",
       "        vertical-align: top;\n",
       "    }\n",
       "\n",
       "    .dataframe thead th {\n",
       "        text-align: right;\n",
       "    }\n",
       "</style>\n",
       "<table border=\"1\" class=\"dataframe\">\n",
       "  <thead>\n",
       "    <tr style=\"text-align: right;\">\n",
       "      <th></th>\n",
       "      <th>rating</th>\n",
       "      <th>ratings_count</th>\n",
       "    </tr>\n",
       "    <tr>\n",
       "      <th>movieId</th>\n",
       "      <th></th>\n",
       "      <th></th>\n",
       "    </tr>\n",
       "  </thead>\n",
       "  <tbody>\n",
       "    <tr>\n",
       "      <th>1</th>\n",
       "      <td>3.894</td>\n",
       "      <td>57309</td>\n",
       "    </tr>\n",
       "    <tr>\n",
       "      <th>2</th>\n",
       "      <td>3.252</td>\n",
       "      <td>24228</td>\n",
       "    </tr>\n",
       "    <tr>\n",
       "      <th>3</th>\n",
       "      <td>3.142</td>\n",
       "      <td>11804</td>\n",
       "    </tr>\n",
       "    <tr>\n",
       "      <th>4</th>\n",
       "      <td>2.854</td>\n",
       "      <td>2523</td>\n",
       "    </tr>\n",
       "    <tr>\n",
       "      <th>5</th>\n",
       "      <td>3.058</td>\n",
       "      <td>11714</td>\n",
       "    </tr>\n",
       "  </tbody>\n",
       "</table>\n",
       "</div>"
      ],
      "text/plain": [
       "         rating  ratings_count\n",
       "movieId                       \n",
       "1         3.894          57309\n",
       "2         3.252          24228\n",
       "3         3.142          11804\n",
       "4         2.854           2523\n",
       "5         3.058          11714"
      ]
     },
     "execution_count": 33,
     "metadata": {},
     "output_type": "execute_result"
    }
   ],
   "source": [
    "movie_summary.head()"
   ]
  },
  {
   "cell_type": "code",
   "execution_count": 34,
   "metadata": {},
   "outputs": [
    {
     "data": {
      "text/plain": [
       "count   59047.000\n",
       "mean      423.393\n",
       "std      2477.886\n",
       "min         1.000\n",
       "25%         2.000\n",
       "50%         6.000\n",
       "75%        36.000\n",
       "max     81491.000\n",
       "Name: ratings_count, dtype: float64"
      ]
     },
     "execution_count": 34,
     "metadata": {},
     "output_type": "execute_result"
    }
   ],
   "source": [
    "movie_summary['ratings_count'].describe()"
   ]
  },
  {
   "cell_type": "code",
   "execution_count": 36,
   "metadata": {},
   "outputs": [],
   "source": [
    "movies = pd.merge(movies, movie_summary, left_on=\"movieId\", right_index=True)"
   ]
  },
  {
   "cell_type": "code",
   "execution_count": 37,
   "metadata": {},
   "outputs": [
    {
     "data": {
      "text/html": [
       "<div>\n",
       "<style scoped>\n",
       "    .dataframe tbody tr th:only-of-type {\n",
       "        vertical-align: middle;\n",
       "    }\n",
       "\n",
       "    .dataframe tbody tr th {\n",
       "        vertical-align: top;\n",
       "    }\n",
       "\n",
       "    .dataframe thead th {\n",
       "        text-align: right;\n",
       "    }\n",
       "</style>\n",
       "<table border=\"1\" class=\"dataframe\">\n",
       "  <thead>\n",
       "    <tr style=\"text-align: right;\">\n",
       "      <th></th>\n",
       "      <th>movieId</th>\n",
       "      <th>title</th>\n",
       "      <th>genres</th>\n",
       "      <th>rating</th>\n",
       "      <th>ratings_count</th>\n",
       "    </tr>\n",
       "  </thead>\n",
       "  <tbody>\n",
       "    <tr>\n",
       "      <th>0</th>\n",
       "      <td>1</td>\n",
       "      <td>Toy Story (1995)</td>\n",
       "      <td>Adventure|Animation|Children|Comedy|Fantasy</td>\n",
       "      <td>3.894</td>\n",
       "      <td>57309</td>\n",
       "    </tr>\n",
       "    <tr>\n",
       "      <th>1</th>\n",
       "      <td>2</td>\n",
       "      <td>Jumanji (1995)</td>\n",
       "      <td>Adventure|Children|Fantasy</td>\n",
       "      <td>3.252</td>\n",
       "      <td>24228</td>\n",
       "    </tr>\n",
       "    <tr>\n",
       "      <th>2</th>\n",
       "      <td>3</td>\n",
       "      <td>Grumpier Old Men (1995)</td>\n",
       "      <td>Comedy|Romance</td>\n",
       "      <td>3.142</td>\n",
       "      <td>11804</td>\n",
       "    </tr>\n",
       "    <tr>\n",
       "      <th>3</th>\n",
       "      <td>4</td>\n",
       "      <td>Waiting to Exhale (1995)</td>\n",
       "      <td>Comedy|Drama|Romance</td>\n",
       "      <td>2.854</td>\n",
       "      <td>2523</td>\n",
       "    </tr>\n",
       "    <tr>\n",
       "      <th>4</th>\n",
       "      <td>5</td>\n",
       "      <td>Father of the Bride Part II (1995)</td>\n",
       "      <td>Comedy</td>\n",
       "      <td>3.058</td>\n",
       "      <td>11714</td>\n",
       "    </tr>\n",
       "  </tbody>\n",
       "</table>\n",
       "</div>"
      ],
      "text/plain": [
       "   movieId                               title  \\\n",
       "0        1                    Toy Story (1995)   \n",
       "1        2                      Jumanji (1995)   \n",
       "2        3             Grumpier Old Men (1995)   \n",
       "3        4            Waiting to Exhale (1995)   \n",
       "4        5  Father of the Bride Part II (1995)   \n",
       "\n",
       "                                        genres  rating  ratings_count  \n",
       "0  Adventure|Animation|Children|Comedy|Fantasy   3.894          57309  \n",
       "1                   Adventure|Children|Fantasy   3.252          24228  \n",
       "2                               Comedy|Romance   3.142          11804  \n",
       "3                         Comedy|Drama|Romance   2.854           2523  \n",
       "4                                       Comedy   3.058          11714  "
      ]
     },
     "execution_count": 37,
     "metadata": {},
     "output_type": "execute_result"
    }
   ],
   "source": [
    "movies.head()"
   ]
  },
  {
   "cell_type": "code",
   "execution_count": 46,
   "metadata": {},
   "outputs": [
    {
     "data": {
      "text/html": [
       "<div>\n",
       "<style scoped>\n",
       "    .dataframe tbody tr th:only-of-type {\n",
       "        vertical-align: middle;\n",
       "    }\n",
       "\n",
       "    .dataframe tbody tr th {\n",
       "        vertical-align: top;\n",
       "    }\n",
       "\n",
       "    .dataframe thead th {\n",
       "        text-align: right;\n",
       "    }\n",
       "</style>\n",
       "<table border=\"1\" class=\"dataframe\">\n",
       "  <thead>\n",
       "    <tr style=\"text-align: right;\">\n",
       "      <th></th>\n",
       "      <th>movieId</th>\n",
       "      <th>title</th>\n",
       "      <th>genres</th>\n",
       "      <th>rating</th>\n",
       "      <th>ratings_count</th>\n",
       "    </tr>\n",
       "  </thead>\n",
       "  <tbody>\n",
       "    <tr>\n",
       "      <th>45741</th>\n",
       "      <td>171011</td>\n",
       "      <td>Planet Earth II (2016)</td>\n",
       "      <td>Documentary</td>\n",
       "      <td>4.483</td>\n",
       "      <td>1124</td>\n",
       "    </tr>\n",
       "    <tr>\n",
       "      <th>40597</th>\n",
       "      <td>159817</td>\n",
       "      <td>Planet Earth (2006)</td>\n",
       "      <td>Documentary</td>\n",
       "      <td>4.465</td>\n",
       "      <td>1747</td>\n",
       "    </tr>\n",
       "    <tr>\n",
       "      <th>314</th>\n",
       "      <td>318</td>\n",
       "      <td>Shawshank Redemption, The (1994)</td>\n",
       "      <td>Crime|Drama</td>\n",
       "      <td>4.414</td>\n",
       "      <td>81482</td>\n",
       "    </tr>\n",
       "    <tr>\n",
       "      <th>45593</th>\n",
       "      <td>170705</td>\n",
       "      <td>Band of Brothers (2001)</td>\n",
       "      <td>Action|Drama|War</td>\n",
       "      <td>4.399</td>\n",
       "      <td>1356</td>\n",
       "    </tr>\n",
       "    <tr>\n",
       "      <th>45973</th>\n",
       "      <td>171495</td>\n",
       "      <td>Cosmos</td>\n",
       "      <td>(no genres listed)</td>\n",
       "      <td>4.327</td>\n",
       "      <td>277</td>\n",
       "    </tr>\n",
       "    <tr>\n",
       "      <th>...</th>\n",
       "      <td>...</td>\n",
       "      <td>...</td>\n",
       "      <td>...</td>\n",
       "      <td>...</td>\n",
       "      <td>...</td>\n",
       "    </tr>\n",
       "    <tr>\n",
       "      <th>12618</th>\n",
       "      <td>61348</td>\n",
       "      <td>Disaster Movie (2008)</td>\n",
       "      <td>Comedy</td>\n",
       "      <td>1.206</td>\n",
       "      <td>557</td>\n",
       "    </tr>\n",
       "    <tr>\n",
       "      <th>1740</th>\n",
       "      <td>1826</td>\n",
       "      <td>Barney's Great Adventure (1998)</td>\n",
       "      <td>Adventure|Children</td>\n",
       "      <td>1.195</td>\n",
       "      <td>397</td>\n",
       "    </tr>\n",
       "    <tr>\n",
       "      <th>4669</th>\n",
       "      <td>4775</td>\n",
       "      <td>Glitter (2001)</td>\n",
       "      <td>Drama|Musical|Romance</td>\n",
       "      <td>1.126</td>\n",
       "      <td>669</td>\n",
       "    </tr>\n",
       "    <tr>\n",
       "      <th>6360</th>\n",
       "      <td>6483</td>\n",
       "      <td>From Justin to Kelly (2003)</td>\n",
       "      <td>Musical|Romance</td>\n",
       "      <td>1.028</td>\n",
       "      <td>417</td>\n",
       "    </tr>\n",
       "    <tr>\n",
       "      <th>8144</th>\n",
       "      <td>8859</td>\n",
       "      <td>SuperBabies: Baby Geniuses 2 (2004)</td>\n",
       "      <td>Comedy</td>\n",
       "      <td>0.899</td>\n",
       "      <td>208</td>\n",
       "    </tr>\n",
       "  </tbody>\n",
       "</table>\n",
       "<p>10291 rows × 5 columns</p>\n",
       "</div>"
      ],
      "text/plain": [
       "       movieId                                title                 genres  \\\n",
       "45741   171011               Planet Earth II (2016)            Documentary   \n",
       "40597   159817                  Planet Earth (2006)            Documentary   \n",
       "314        318     Shawshank Redemption, The (1994)            Crime|Drama   \n",
       "45593   170705              Band of Brothers (2001)       Action|Drama|War   \n",
       "45973   171495                               Cosmos     (no genres listed)   \n",
       "...        ...                                  ...                    ...   \n",
       "12618    61348                Disaster Movie (2008)                 Comedy   \n",
       "1740      1826      Barney's Great Adventure (1998)     Adventure|Children   \n",
       "4669      4775                       Glitter (2001)  Drama|Musical|Romance   \n",
       "6360      6483          From Justin to Kelly (2003)        Musical|Romance   \n",
       "8144      8859  SuperBabies: Baby Geniuses 2 (2004)                 Comedy   \n",
       "\n",
       "       rating  ratings_count  \n",
       "45741   4.483           1124  \n",
       "40597   4.465           1747  \n",
       "314     4.414          81482  \n",
       "45593   4.399           1356  \n",
       "45973   4.327            277  \n",
       "...       ...            ...  \n",
       "12618   1.206            557  \n",
       "1740    1.195            397  \n",
       "4669    1.126            669  \n",
       "6360    1.028            417  \n",
       "8144    0.899            208  \n",
       "\n",
       "[10291 rows x 5 columns]"
      ]
     },
     "execution_count": 46,
     "metadata": {},
     "output_type": "execute_result"
    }
   ],
   "source": [
    "movies[movies['ratings_count'] > 100].sort_values(\"rating\", ascending=False)"
   ]
  },
  {
   "cell_type": "code",
   "execution_count": 35,
   "metadata": {
    "scrolled": true
   },
   "outputs": [
    {
     "data": {
      "text/plain": [
       "<matplotlib.axes._subplots.AxesSubplot at 0x7f112306fbe0>"
      ]
     },
     "execution_count": 35,
     "metadata": {},
     "output_type": "execute_result"
    },
    {
     "data": {
      "image/png": "[encoded data removed]",
      "text/plain": [
       "<Figure size 1008x288 with 1 Axes>"
      ]
     },
     "metadata": {
      "needs_background": "light"
     },
     "output_type": "display_data"
    }
   ],
   "source": [
    "plt.figure(figsize=(14,4))\n",
    "plt.xlabel('rating count', fontsize=12)\n",
    "plt.ylabel('#', fontsize=12)\n",
    "movie_summary['ratings_count'].hist()"
   ]
  },
  {
   "cell_type": "code",
   "execution_count": 36,
   "metadata": {},
   "outputs": [
    {
     "data": {
      "text/plain": [
       "<matplotlib.axes._subplots.AxesSubplot at 0x7f112306f400>"
      ]
     },
     "execution_count": 36,
     "metadata": {},
     "output_type": "execute_result"
    },
    {
     "data": {
      "image/png": "[encoded data removed]",
      "text/plain": [
       "<Figure size 1008x288 with 1 Axes>"
      ]
     },
     "metadata": {
      "needs_background": "light"
     },
     "output_type": "display_data"
    }
   ],
   "source": [
    "plt.figure(figsize=(14,4))\n",
    "plt.xlabel('rating count', fontsize=12)\n",
    "plt.ylabel('#', fontsize=12)\n",
    "movie_summary[movie_summary['ratings_count'] < 100]['ratings_count'].hist()"
   ]
  },
  {
   "cell_type": "code",
   "execution_count": 37,
   "metadata": {},
   "outputs": [
    {
     "name": "stdout",
     "output_type": "stream",
     "text": [
      "Movies with less than 100 ratings:\n",
      "48721\n"
     ]
    }
   ],
   "source": [
    "print(\"Movies with less than 100 ratings:\")\n",
    "print((movie_summary['ratings_count'] < 100).sum())"
   ]
  },
  {
   "cell_type": "code",
   "execution_count": 38,
   "metadata": {},
   "outputs": [
    {
     "data": {
      "text/plain": [
       "<matplotlib.axes._subplots.AxesSubplot at 0x7f112288dc88>"
      ]
     },
     "execution_count": 38,
     "metadata": {},
     "output_type": "execute_result"
    },
    {
     "data": {
      "image/png": "[encoded data removed]",
      "text/plain": [
       "<Figure size 1008x288 with 1 Axes>"
      ]
     },
     "metadata": {
      "needs_background": "light"
     },
     "output_type": "display_data"
    }
   ],
   "source": [
    "plt.figure(figsize=(14,4))\n",
    "plt.xlabel('rating count', fontsize=12)\n",
    "plt.ylabel('#', fontsize=12)\n",
    "movie_summary[movie_summary['ratings_count'] < 30]['ratings_count'].hist()"
   ]
  },
  {
   "cell_type": "code",
   "execution_count": 39,
   "metadata": {},
   "outputs": [
    {
     "name": "stdout",
     "output_type": "stream",
     "text": [
      "num movies with 0 ratings = 0\n",
      "num movies with 1 rating  = 10298\n",
      "num movies with < 10 rating  = 34717\n",
      "num movies with < 20 rating  = 40617\n",
      "num movies with < 30 rating  = 43132\n",
      "num movies with < 50 rating  = 45871\n"
     ]
    }
   ],
   "source": [
    "print('num movies with 0 ratings = {}'.format((movie_summary['ratings_count'] == 0).sum()))\n",
    "print('num movies with 1 rating  = {}'.format((movie_summary['ratings_count'] == 1).sum()))\n",
    "print('num movies with < 10 rating  = {}'.format((movie_summary['ratings_count'] < 10).sum()))\n",
    "print('num movies with < 20 rating  = {}'.format((movie_summary['ratings_count'] < 20).sum()))\n",
    "print('num movies with < 30 rating  = {}'.format((movie_summary['ratings_count'] < 30).sum()))\n",
    "print('num movies with < 50 rating  = {}'.format((movie_summary['ratings_count'] < 50).sum()))"
   ]
  },
  {
   "cell_type": "code",
   "execution_count": 40,
   "metadata": {},
   "outputs": [
    {
     "data": {
      "text/plain": [
       "<seaborn.axisgrid.JointGrid at 0x7f11228144e0>"
      ]
     },
     "execution_count": 40,
     "metadata": {},
     "output_type": "execute_result"
    },
    {
     "data": {
      "image/png": "[encoded data removed]",
      "text/plain": [
       "<Figure size 432x432 with 3 Axes>"
      ]
     },
     "metadata": {
      "needs_background": "light"
     },
     "output_type": "display_data"
    }
   ],
   "source": [
    "sns.jointplot(x='rating', y='ratings_count', data=movie_summary, alpha=0.5, height=6)"
   ]
  },
  {
   "cell_type": "code",
   "execution_count": 41,
   "metadata": {},
   "outputs": [],
   "source": [
    "users_ratings = (\n",
    "    ratings\n",
    "    .groupby('userId', as_index=False)\n",
    "    .agg({'rating': ['count', 'mean']})\n",
    "    .flatten_cols()\n",
    ")"
   ]
  },
  {
   "cell_type": "code",
   "execution_count": 42,
   "metadata": {},
   "outputs": [
    {
     "data": {
      "text/html": [
       "<div>\n",
       "<style scoped>\n",
       "    .dataframe tbody tr th:only-of-type {\n",
       "        vertical-align: middle;\n",
       "    }\n",
       "\n",
       "    .dataframe tbody tr th {\n",
       "        vertical-align: top;\n",
       "    }\n",
       "\n",
       "    .dataframe thead th {\n",
       "        text-align: right;\n",
       "    }\n",
       "</style>\n",
       "<table border=\"1\" class=\"dataframe\">\n",
       "  <thead>\n",
       "    <tr style=\"text-align: right;\">\n",
       "      <th></th>\n",
       "      <th>userId</th>\n",
       "      <th>rating count</th>\n",
       "      <th>rating mean</th>\n",
       "    </tr>\n",
       "  </thead>\n",
       "  <tbody>\n",
       "    <tr>\n",
       "      <th>0</th>\n",
       "      <td>1</td>\n",
       "      <td>70</td>\n",
       "      <td>3.814</td>\n",
       "    </tr>\n",
       "    <tr>\n",
       "      <th>1</th>\n",
       "      <td>2</td>\n",
       "      <td>184</td>\n",
       "      <td>3.630</td>\n",
       "    </tr>\n",
       "    <tr>\n",
       "      <th>2</th>\n",
       "      <td>3</td>\n",
       "      <td>656</td>\n",
       "      <td>3.697</td>\n",
       "    </tr>\n",
       "    <tr>\n",
       "      <th>3</th>\n",
       "      <td>4</td>\n",
       "      <td>242</td>\n",
       "      <td>3.378</td>\n",
       "    </tr>\n",
       "    <tr>\n",
       "      <th>4</th>\n",
       "      <td>5</td>\n",
       "      <td>101</td>\n",
       "      <td>3.752</td>\n",
       "    </tr>\n",
       "  </tbody>\n",
       "</table>\n",
       "</div>"
      ],
      "text/plain": [
       "   userId  rating count  rating mean\n",
       "0       1            70        3.814\n",
       "1       2           184        3.630\n",
       "2       3           656        3.697\n",
       "3       4           242        3.378\n",
       "4       5           101        3.752"
      ]
     },
     "execution_count": 42,
     "metadata": {},
     "output_type": "execute_result"
    }
   ],
   "source": [
    "users_ratings.head()"
   ]
  },
  {
   "cell_type": "code",
   "execution_count": 43,
   "metadata": {},
   "outputs": [
    {
     "data": {
      "text/html": [
       "<div>\n",
       "<style scoped>\n",
       "    .dataframe tbody tr th:only-of-type {\n",
       "        vertical-align: middle;\n",
       "    }\n",
       "\n",
       "    .dataframe tbody tr th {\n",
       "        vertical-align: top;\n",
       "    }\n",
       "\n",
       "    .dataframe thead th {\n",
       "        text-align: right;\n",
       "    }\n",
       "</style>\n",
       "<table border=\"1\" class=\"dataframe\">\n",
       "  <thead>\n",
       "    <tr style=\"text-align: right;\">\n",
       "      <th></th>\n",
       "      <th>userId</th>\n",
       "      <th>rating count</th>\n",
       "      <th>rating mean</th>\n",
       "    </tr>\n",
       "  </thead>\n",
       "  <tbody>\n",
       "    <tr>\n",
       "      <th>count</th>\n",
       "      <td>162541.000</td>\n",
       "      <td>162541.000</td>\n",
       "      <td>162541.000</td>\n",
       "    </tr>\n",
       "    <tr>\n",
       "      <th>mean</th>\n",
       "      <td>81271.000</td>\n",
       "      <td>153.808</td>\n",
       "      <td>3.679</td>\n",
       "    </tr>\n",
       "    <tr>\n",
       "      <th>std</th>\n",
       "      <td>46921.689</td>\n",
       "      <td>268.048</td>\n",
       "      <td>0.477</td>\n",
       "    </tr>\n",
       "    <tr>\n",
       "      <th>min</th>\n",
       "      <td>1.000</td>\n",
       "      <td>20.000</td>\n",
       "      <td>0.500</td>\n",
       "    </tr>\n",
       "    <tr>\n",
       "      <th>25%</th>\n",
       "      <td>40636.000</td>\n",
       "      <td>36.000</td>\n",
       "      <td>3.399</td>\n",
       "    </tr>\n",
       "    <tr>\n",
       "      <th>50%</th>\n",
       "      <td>81271.000</td>\n",
       "      <td>71.000</td>\n",
       "      <td>3.700</td>\n",
       "    </tr>\n",
       "    <tr>\n",
       "      <th>75%</th>\n",
       "      <td>121906.000</td>\n",
       "      <td>162.000</td>\n",
       "      <td>4.000</td>\n",
       "    </tr>\n",
       "    <tr>\n",
       "      <th>max</th>\n",
       "      <td>162541.000</td>\n",
       "      <td>32202.000</td>\n",
       "      <td>5.000</td>\n",
       "    </tr>\n",
       "  </tbody>\n",
       "</table>\n",
       "</div>"
      ],
      "text/plain": [
       "          userId  rating count  rating mean\n",
       "count 162541.000    162541.000   162541.000\n",
       "mean   81271.000       153.808        3.679\n",
       "std    46921.689       268.048        0.477\n",
       "min        1.000        20.000        0.500\n",
       "25%    40636.000        36.000        3.399\n",
       "50%    81271.000        71.000        3.700\n",
       "75%   121906.000       162.000        4.000\n",
       "max   162541.000     32202.000        5.000"
      ]
     },
     "execution_count": 43,
     "metadata": {},
     "output_type": "execute_result"
    }
   ],
   "source": [
    "users_ratings.describe()"
   ]
  },
  {
   "cell_type": "code",
   "execution_count": 44,
   "metadata": {},
   "outputs": [
    {
     "data": {
      "text/plain": [
       "<matplotlib.axes._subplots.AxesSubplot at 0x7f11225bf908>"
      ]
     },
     "execution_count": 44,
     "metadata": {},
     "output_type": "execute_result"
    },
    {
     "data": {
      "image/png": "[encoded data removed]",
      "text/plain": [
       "<Figure size 1008x288 with 1 Axes>"
      ]
     },
     "metadata": {
      "needs_background": "light"
     },
     "output_type": "display_data"
    }
   ],
   "source": [
    "plt.figure(figsize=(14,4))\n",
    "plt.xlabel('rating mean', fontsize=12)\n",
    "plt.ylabel('rating count', fontsize=12)\n",
    "users_ratings['rating mean'].hist(bins=50)"
   ]
  },
  {
   "cell_type": "code",
   "execution_count": 45,
   "metadata": {},
   "outputs": [
    {
     "data": {
      "text/plain": [
       "<matplotlib.axes._subplots.AxesSubplot at 0x7f11224feac8>"
      ]
     },
     "execution_count": 45,
     "metadata": {},
     "output_type": "execute_result"
    },
    {
     "data": {
      "image/png": "[encoded data removed]",
      "text/plain": [
       "<Figure size 1008x288 with 1 Axes>"
      ]
     },
     "metadata": {
      "needs_background": "light"
     },
     "output_type": "display_data"
    }
   ],
   "source": [
    "plt.figure(figsize=(14,4))\n",
    "plt.xlabel('rating count', fontsize=12)\n",
    "plt.ylabel('rating count', fontsize=12)\n",
    "users_ratings[users_ratings['rating count'] < 500]['rating count'].hist(bins=50)"
   ]
  },
  {
   "cell_type": "markdown",
   "metadata": {},
   "source": [
    "# Cleaning"
   ]
  },
  {
   "cell_type": "code",
   "execution_count": 46,
   "metadata": {},
   "outputs": [
    {
     "data": {
      "text/html": [
       "<div>\n",
       "<style scoped>\n",
       "    .dataframe tbody tr th:only-of-type {\n",
       "        vertical-align: middle;\n",
       "    }\n",
       "\n",
       "    .dataframe tbody tr th {\n",
       "        vertical-align: top;\n",
       "    }\n",
       "\n",
       "    .dataframe thead th {\n",
       "        text-align: right;\n",
       "    }\n",
       "</style>\n",
       "<table border=\"1\" class=\"dataframe\">\n",
       "  <thead>\n",
       "    <tr style=\"text-align: right;\">\n",
       "      <th></th>\n",
       "      <th>movieId</th>\n",
       "      <th>title</th>\n",
       "      <th>genres</th>\n",
       "    </tr>\n",
       "  </thead>\n",
       "  <tbody>\n",
       "    <tr>\n",
       "      <th>43480</th>\n",
       "      <td>166155</td>\n",
       "      <td>Godless (2016)</td>\n",
       "      <td>Drama</td>\n",
       "    </tr>\n",
       "    <tr>\n",
       "      <th>49702</th>\n",
       "      <td>179433</td>\n",
       "      <td>Our Friend, Martin (1999)</td>\n",
       "      <td>Animation Children</td>\n",
       "    </tr>\n",
       "    <tr>\n",
       "      <th>34011</th>\n",
       "      <td>144474</td>\n",
       "      <td>Control (2013)</td>\n",
       "      <td>Thriller</td>\n",
       "    </tr>\n",
       "    <tr>\n",
       "      <th>8011</th>\n",
       "      <td>8725</td>\n",
       "      <td>Goodbye, Columbus (1969)</td>\n",
       "      <td>Comedy Drama Romance</td>\n",
       "    </tr>\n",
       "    <tr>\n",
       "      <th>10685</th>\n",
       "      <td>44225</td>\n",
       "      <td>Aquamarine (2006)</td>\n",
       "      <td>Children Comedy Fantasy</td>\n",
       "    </tr>\n",
       "  </tbody>\n",
       "</table>\n",
       "</div>"
      ],
      "text/plain": [
       "       movieId                      title                   genres\n",
       "43480   166155             Godless (2016)                    Drama\n",
       "49702   179433  Our Friend, Martin (1999)       Animation Children\n",
       "34011   144474             Control (2013)                 Thriller\n",
       "8011      8725   Goodbye, Columbus (1969)     Comedy Drama Romance\n",
       "10685    44225          Aquamarine (2006)  Children Comedy Fantasy"
      ]
     },
     "execution_count": 46,
     "metadata": {},
     "output_type": "execute_result"
    }
   ],
   "source": [
    "# handle genres (remove all non alphabet characters)\n",
    "movies['genres'] = movies['genres'].str.replace(pat=\"|\", repl=\" \")\n",
    "movies['genres'] = movies['genres'].str.replace(pat=\"-\", repl=\"\")\n",
    "movies['genres'] = movies['genres'].str.replace(pat=\"(no genres listed)\", repl=\"\")\n",
    "movies['genres'] = movies['genres'].str.replace(pat=\"(\", repl=\"\")\n",
    "movies['genres'] = movies['genres'].str.replace(pat=\")\", repl=\"\")\n",
    "movies.sample(5)"
   ]
  },
  {
   "cell_type": "code",
   "execution_count": 47,
   "metadata": {},
   "outputs": [],
   "source": [
    "# drop timestamps, not needed\n",
    "ratings = ratings.drop(\"timestamp\", axis=1)\n",
    "tags = tags.drop(\"timestamp\", axis=1)"
   ]
  },
  {
   "cell_type": "code",
   "execution_count": 48,
   "metadata": {},
   "outputs": [],
   "source": [
    "# fill some nans \n",
    "tags.fillna(\"\", inplace=True)"
   ]
  },
  {
   "cell_type": "code",
   "execution_count": 49,
   "metadata": {},
   "outputs": [
    {
     "name": "stdout",
     "output_type": "stream",
     "text": [
      "62423 unique movies in movies.csv\n",
      "59047 unique movies in ratings.csv\n",
      "45251 unique movies in tags.csv\n"
     ]
    }
   ],
   "source": [
    "print(\"{} unique movies in movies.csv\".format(len(movies.movieId.unique())))\n",
    "print(\"{} unique movies in ratings.csv\".format(len(ratings.movieId.unique())))\n",
    "print(\"{} unique movies in tags.csv\".format(len(tags.movieId.unique())))"
   ]
  },
  {
   "cell_type": "code",
   "execution_count": 50,
   "metadata": {},
   "outputs": [
    {
     "data": {
      "text/html": [
       "<div>\n",
       "<style scoped>\n",
       "    .dataframe tbody tr th:only-of-type {\n",
       "        vertical-align: middle;\n",
       "    }\n",
       "\n",
       "    .dataframe tbody tr th {\n",
       "        vertical-align: top;\n",
       "    }\n",
       "\n",
       "    .dataframe thead th {\n",
       "        text-align: right;\n",
       "    }\n",
       "</style>\n",
       "<table border=\"1\" class=\"dataframe\">\n",
       "  <thead>\n",
       "    <tr style=\"text-align: right;\">\n",
       "      <th></th>\n",
       "      <th>movieId</th>\n",
       "      <th>title</th>\n",
       "      <th>genres</th>\n",
       "    </tr>\n",
       "  </thead>\n",
       "  <tbody>\n",
       "    <tr>\n",
       "      <th>0</th>\n",
       "      <td>1</td>\n",
       "      <td>Toy Story (1995)</td>\n",
       "      <td>Adventure Animation Children Comedy Fantasy</td>\n",
       "    </tr>\n",
       "    <tr>\n",
       "      <th>1</th>\n",
       "      <td>2</td>\n",
       "      <td>Jumanji (1995)</td>\n",
       "      <td>Adventure Children Fantasy</td>\n",
       "    </tr>\n",
       "    <tr>\n",
       "      <th>2</th>\n",
       "      <td>3</td>\n",
       "      <td>Grumpier Old Men (1995)</td>\n",
       "      <td>Comedy Romance</td>\n",
       "    </tr>\n",
       "    <tr>\n",
       "      <th>3</th>\n",
       "      <td>4</td>\n",
       "      <td>Waiting to Exhale (1995)</td>\n",
       "      <td>Comedy Drama Romance</td>\n",
       "    </tr>\n",
       "    <tr>\n",
       "      <th>4</th>\n",
       "      <td>5</td>\n",
       "      <td>Father of the Bride Part II (1995)</td>\n",
       "      <td>Comedy</td>\n",
       "    </tr>\n",
       "  </tbody>\n",
       "</table>\n",
       "</div>"
      ],
      "text/plain": [
       "   movieId                               title  \\\n",
       "0        1                    Toy Story (1995)   \n",
       "1        2                      Jumanji (1995)   \n",
       "2        3             Grumpier Old Men (1995)   \n",
       "3        4            Waiting to Exhale (1995)   \n",
       "4        5  Father of the Bride Part II (1995)   \n",
       "\n",
       "                                        genres  \n",
       "0  Adventure Animation Children Comedy Fantasy  \n",
       "1                   Adventure Children Fantasy  \n",
       "2                               Comedy Romance  \n",
       "3                         Comedy Drama Romance  \n",
       "4                                       Comedy  "
      ]
     },
     "execution_count": 50,
     "metadata": {},
     "output_type": "execute_result"
    }
   ],
   "source": [
    "# drop movies with to little reviews\n",
    "movie_ids_to_remove = movie_summary.loc[movie_summary['ratings_count'] < 10].index\n",
    "ratings = ratings[~ratings[\"movieId\"].isin(movie_ids_to_remove)]\n",
    "tags = tags[~tags[\"movieId\"].isin(movie_ids_to_remove)]\n",
    "movies = movies[~movies[\"movieId\"].isin(movie_ids_to_remove)]\n",
    "movies.head()"
   ]
  },
  {
   "cell_type": "code",
   "execution_count": 51,
   "metadata": {},
   "outputs": [
    {
     "name": "stdout",
     "output_type": "stream",
     "text": [
      "27706 unique movies in movies.csv\n",
      "24330 unique movies in ratings.csv\n",
      "26178 unique movies in tags.csv\n"
     ]
    }
   ],
   "source": [
    "print(\"{} unique movies in movies.csv\".format(len(movies.movieId.unique())))\n",
    "print(\"{} unique movies in ratings.csv\".format(len(ratings.movieId.unique())))\n",
    "print(\"{} unique movies in tags.csv\".format(len(tags.movieId.unique())))"
   ]
  },
  {
   "cell_type": "code",
   "execution_count": 52,
   "metadata": {},
   "outputs": [],
   "source": [
    "# we should remove movies from 1990 and backwards\n",
    "import re\n",
    "\n",
    "def get_release_year(row):\n",
    "    title = row[\"title\"]\n",
    "    year = re.search(r'\\(\\d{4}\\)', title)\n",
    "    if year:\n",
    "        year = year.group(0)\n",
    "    else:\n",
    "        return None\n",
    "    year = int(year.replace('(', '').replace(')', ''))\n",
    "    return year\n",
    "\n",
    "release_year = movies.apply(get_release_year, axis=1)\n",
    "reverse_year_mask = release_year <= 1990\n",
    "year_mask = release_year >= 1990"
   ]
  },
  {
   "cell_type": "code",
   "execution_count": 56,
   "metadata": {},
   "outputs": [
    {
     "name": "stderr",
     "output_type": "stream",
     "text": [
      "/usr/local/lib/python3.6/dist-packages/ipykernel_launcher.py:3: UserWarning: Boolean Series key will be reindexed to match DataFrame index.\n",
      "  This is separate from the ipykernel package so we can avoid doing imports until\n"
     ]
    }
   ],
   "source": [
    "ratings = ratings[~ratings[\"movieId\"].isin(reverse_year_mask)]\n",
    "tags = tags[~tags[\"movieId\"].isin(reverse_year_mask)]\n",
    "movies = movies[year_mask]"
   ]
  },
  {
   "cell_type": "code",
   "execution_count": 57,
   "metadata": {},
   "outputs": [
    {
     "name": "stdout",
     "output_type": "stream",
     "text": [
      "18033 unique movies in movies.csv\n",
      "24329 unique movies in ratings.csv\n",
      "26177 unique movies in tags.csv\n"
     ]
    }
   ],
   "source": [
    "print(\"{} unique movies in movies.csv\".format(len(movies.movieId.unique())))\n",
    "print(\"{} unique movies in ratings.csv\".format(len(ratings.movieId.unique())))\n",
    "print(\"{} unique movies in tags.csv\".format(len(tags.movieId.unique())))"
   ]
  },
  {
   "cell_type": "code",
   "execution_count": null,
   "metadata": {},
   "outputs": [],
   "source": [
    "%%time\n",
    "# group tags into a single column by movie\n",
    "tags = pd.DataFrame(tags.groupby('movieId')['tag'].apply(lambda x: \"{%s}\" % ' '.join(x)))\n",
    "tags.reset_index(inplace=True)\n",
    "tags.head()"
   ]
  },
  {
   "cell_type": "code",
   "execution_count": null,
   "metadata": {},
   "outputs": [],
   "source": [
    "# ratings need to be a float32 to save memory\n",
    "ratings[\"rating\"] = ratings[\"rating\"].values.astype(np.float32)"
   ]
  },
  {
   "cell_type": "code",
   "execution_count": null,
   "metadata": {},
   "outputs": [],
   "source": [
    "# map unique movies to a dict of 0-based indicies \n",
    "# dict: {movieId: idx}, e.g., {296: 0}\n",
    "unique_movies = ratings.movieId.unique()\n",
    "movie2idx = {o: i for i, o in enumerate(unique_movies)}"
   ]
  },
  {
   "cell_type": "code",
   "execution_count": null,
   "metadata": {},
   "outputs": [],
   "source": [
    "# for content based filtering, we need to work with tags and genres\n",
    "# for this, we need to a ratings DF without duplicates to create the correct idx mappings \n",
    "ratings_unique = ratings.drop_duplicates('movieId').copy()\n",
    "ratings_unique.head()"
   ]
  },
  {
   "cell_type": "code",
   "execution_count": null,
   "metadata": {},
   "outputs": [],
   "source": [
    "# merge tags with ratings, and apply idx mapping (right join for keping ratings keys ordered)\n",
    "tags = pd.merge(tags, ratings_unique, on=\"movieId\", how=\"right\")\n",
    "tags[\"movieId\"] = tags[\"movieId\"].apply(lambda x: movie2idx[x])\n",
    "tags.head()"
   ]
  },
  {
   "cell_type": "code",
   "execution_count": null,
   "metadata": {},
   "outputs": [],
   "source": [
    "%%time\n",
    "# merge movies with ratings and map idx\n",
    "movies = pd.merge(movies, ratings_unique, on=\"movieId\", how=\"inner\")\n",
    "movies[\"movieId\"] = movies[\"movieId\"].apply(lambda x: movie2idx[x])\n",
    "movies.head()"
   ]
  },
  {
   "cell_type": "code",
   "execution_count": null,
   "metadata": {},
   "outputs": [],
   "source": [
    "# merge tags and genres into one description column\n",
    "tags = pd.merge(movies, tags, left_index=True, right_on='movieId', how='right')\n",
    "tags['desc'] = tags[['tag', 'genres']].apply(lambda x: ' '.join(x), axis=1)"
   ]
  },
  {
   "cell_type": "code",
   "execution_count": null,
   "metadata": {},
   "outputs": [],
   "source": [
    "tags.head()"
   ]
  }
 ],
 "metadata": {
  "kernelspec": {
   "display_name": "Python 3",
   "language": "python",
   "name": "python3"
  },
  "language_info": {
   "codemirror_mode": {
    "name": "ipython",
    "version": 3
   },
   "file_extension": ".py",
   "mimetype": "text/x-python",
   "name": "python",
   "nbconvert_exporter": "python",
   "pygments_lexer": "ipython3",
   "version": "3.6.8"
  }
 },
 "nbformat": 4,
 "nbformat_minor": 2
}
